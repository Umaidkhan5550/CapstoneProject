{
  "nbformat": 4,
  "nbformat_minor": 0,
  "metadata": {
    "colab": {
      "provenance": []
    },
    "kernelspec": {
      "name": "python3",
      "display_name": "Python 3"
    },
    "language_info": {
      "name": "python"
    }
  },
  "cells": [
    {
      "cell_type": "markdown",
      "source": [],
      "metadata": {
        "id": "plCrS86joYEC"
      }
    },
    {
      "cell_type": "code",
      "source": [
        "# !pip install pyspark"
      ],
      "metadata": {
        "id": "hHrNg7qlt_Q_"
      },
      "execution_count": 13,
      "outputs": []
    },
    {
      "cell_type": "code",
      "source": [
        "from pyspark.sql import SparkSession\n",
        "from pyspark.sql.functions import col, avg, count, when, isnan, sum"
      ],
      "metadata": {
        "id": "xVZ5j6bTT33M"
      },
      "execution_count": 18,
      "outputs": []
    },
    {
      "cell_type": "code",
      "source": [
        "# Initialize Spark session\n",
        "spark = SparkSession.builder.appName(\"BikeShareEDA\").getOrCreate()\n",
        "\n",
        "# Read the CSV file\n",
        "df = spark.read.csv(\"/content/Bikeshare_Data.csv\", header=True, inferSchema=True)\n",
        "\n",
        "# 1. Display basic information about the dataset\n",
        "print(\"Dataset Information:\")\n",
        "df.printSchema()\n",
        "print(f\"Number of rows: {df.count()}\")\n",
        "print(f\"Number of columns: {len(df.columns)}\")\n",
        "\n",
        "# 2. Show summary statistics for numerical columns\n",
        "print(\"\\nSummary Statistics for Numerical Columns:\")\n",
        "# Exclude 'Unnamed: 0' column from summary statistics calculation\n",
        "#Updated logic to exclude columns starting with 'Unnamed: 0' to handle cases like 'Unnamed: 0.1'\n",
        "numerical_cols = [col_name for col_name in df.columns\n",
        "                  if df.schema[col_name].dataType.typeName() in ['integer', 'double'] and not col_name.startswith('Unnamed: 0')]\n",
        "df.select(numerical_cols).describe().show()\n",
        "\n",
        "# 3. Count the number of rides by member type (handling column with spaces)\n",
        "print(\"\\nNumber of Rides by Member Type:\")\n",
        "df.groupBy(\"`Member type`\").count().orderBy(\"count\", ascending=False).show()\n",
        "\n",
        "# 4. Calculate average duration by start station (handling column with spaces)\n",
        "print(\"\\nAverage Duration by Start Station (Top 10):\")\n",
        "df.groupBy(\"`Start station`\").agg(avg(\"Duration\").alias(\"Avg_Duration\")).orderBy(\"Avg_Duration\", ascending=False).limit(10).show()\n",
        "\n",
        "# 5. Analyze the distribution of rides across different temperatures\n",
        "print(\"\\nDistribution of Rides Across Temperature Ranges:\")\n",
        "df.withColumn(\"Temp_Range\",\n",
        "    when(col(\"temperature_2m\") < 0, \"Below 0°C\")\n",
        "    .when((col(\"temperature_2m\") >= 0) & (col(\"temperature_2m\") < 10), \"0-10°C\")\n",
        "    .when((col(\"temperature_2m\") >= 10) & (col(\"temperature_2m\") < 20), \"10-20°C\")\n",
        "    .when((col(\"temperature_2m\") >= 20) & (col(\"temperature_2m\") < 30), \"20-30°C\")\n",
        "    .otherwise(\"30°C and above\")\n",
        ").groupBy(\"Temp_Range\").count().orderBy(\"count\", ascending=False).show()\n",
        "\n",
        "# 6. Calculate the percentage of rides on holidays vs non-holidays\n",
        "total_rides = df.count()\n",
        "holiday_rides = df.filter(col(\"isHoliday\") == 1).count()\n",
        "non_holiday_rides = total_rides - holiday_rides\n",
        "\n",
        "print(\"\\nPercentage of Rides on Holidays vs Non-Holidays:\")\n",
        "print(f\"Holiday Rides: {holiday_rides / total_rides * 100:.2f}%\")\n",
        "print(f\"Non-Holiday Rides: {non_holiday_rides / total_rides * 100:.2f}%\")\n",
        "\n",
        "# Stop Spark session\n",
        "spark.stop()"
      ],
      "metadata": {
        "colab": {
          "base_uri": "https://localhost:8080/"
        },
        "id": "ZrLyoDqpT8Zh",
        "outputId": "59423bba-18f8-4e96-fdb4-ce6c4e44e640"
      },
      "execution_count": 19,
      "outputs": [
        {
          "output_type": "stream",
          "name": "stdout",
          "text": [
            "Dataset Information:\n",
            "root\n",
            " |-- _c0: integer (nullable = true)\n",
            " |-- Unnamed: 0.1: integer (nullable = true)\n",
            " |-- Unnamed: 0: integer (nullable = true)\n",
            " |-- Duration: integer (nullable = true)\n",
            " |-- Start date: string (nullable = true)\n",
            " |-- End date: string (nullable = true)\n",
            " |-- Start station number: integer (nullable = true)\n",
            " |-- Start station: string (nullable = true)\n",
            " |-- End station number: integer (nullable = true)\n",
            " |-- End station: string (nullable = true)\n",
            " |-- Member type: string (nullable = true)\n",
            " |-- time: string (nullable = true)\n",
            " |-- temperature_2m: double (nullable = true)\n",
            " |-- relativehumidity_2m: integer (nullable = true)\n",
            " |-- precipitation: double (nullable = true)\n",
            " |-- windspeed_10m: double (nullable = true)\n",
            " |-- date: string (nullable = true)\n",
            " |-- holiday: string (nullable = true)\n",
            " |-- isHoliday: integer (nullable = true)\n",
            "\n",
            "Number of rows: 860924\n",
            "Number of columns: 19\n",
            "\n",
            "Summary Statistics for Numerical Columns:\n",
            "+-------+-----------------+------------------+--------------------+------------------+-----------------+-------------------+-------------------+-----------------+--------------------+\n",
            "|summary|              _c0|          Duration|Start station number|End station number|   temperature_2m|relativehumidity_2m|      precipitation|    windspeed_10m|           isHoliday|\n",
            "+-------+-----------------+------------------+--------------------+------------------+-----------------+-------------------+-------------------+-----------------+--------------------+\n",
            "|  count|           860924|            860924|              860924|            860924|           860924|             860924|             860924|           860924|              860924|\n",
            "|   mean|         430461.5|1120.7256738109288|   31319.36101676803| 31319.90311688372|17.40587728998065|   67.2625388536038| 0.0941764894462122| 9.92710367001172|0.026319396369482093|\n",
            "| stddev|248527.4959134301| 2188.043696221559|  254.17687493938084|273.59614875807625|9.456243429931144| 19.859662356924474|0.46316309002038875|5.175084218629075|  0.1600834642014995|\n",
            "|    min|                0|                60|                   0|                 0|            -19.4|                 18|                0.0|              0.0|                   0|\n",
            "|    max|           860923|             86305|               32609|             32609|             37.5|                100|               17.7|             45.1|                   1|\n",
            "+-------+-----------------+------------------+--------------------+------------------+-----------------+-------------------+-------------------+-----------------+--------------------+\n",
            "\n",
            "\n",
            "Number of Rides by Member Type:\n",
            "+-----------+------+\n",
            "|Member type| count|\n",
            "+-----------+------+\n",
            "|     Member|681361|\n",
            "|     Casual|179563|\n",
            "+-----------+------+\n",
            "\n",
            "\n",
            "Average Duration by Start Station (Top 10):\n",
            "+--------------------+------------------+\n",
            "|       Start station|      Avg_Duration|\n",
            "+--------------------+------------------+\n",
            "| Spring St & 2nd Ave| 6720.615384615385|\n",
            "|Falls Church City...| 5333.055555555556|\n",
            "|South Capitol & A...| 4927.060606060606|\n",
            "|Benning Branch Li...| 4747.385416666667|\n",
            "|     Twinbrook Metro|  3966.59649122807|\n",
            "|Fishers Ln & Rock...| 3604.309523809524|\n",
            "|Library St & Free...|3449.1041666666665|\n",
            "|Wheaton Library &...|3341.6666666666665|\n",
            "|Crabbs Branch Way...|           2970.24|\n",
            "|Blueridge Ave & E...|            2853.0|\n",
            "+--------------------+------------------+\n",
            "\n",
            "\n",
            "Distribution of Rides Across Temperature Ranges:\n",
            "+--------------+------+\n",
            "|    Temp_Range| count|\n",
            "+--------------+------+\n",
            "|       20-30°C|339701|\n",
            "|       10-20°C|254953|\n",
            "|        0-10°C|166914|\n",
            "|30°C and above| 61209|\n",
            "|     Below 0°C| 38147|\n",
            "+--------------+------+\n",
            "\n",
            "\n",
            "Percentage of Rides on Holidays vs Non-Holidays:\n",
            "Holiday Rides: 2.63%\n",
            "Non-Holiday Rides: 97.37%\n"
          ]
        }
      ]
    }
  ]
}